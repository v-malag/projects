{
  "cells": [
    {
      "metadata": {
        "trusted": true
      },
      "cell_type": "code",
      "source": "import numpy as np\nimport pandas as pd",
      "execution_count": 1,
      "outputs": []
    },
    {
      "metadata": {
        "trusted": true
      },
      "cell_type": "code",
      "source": "df = pd.read_excel('Data.xlsx')\ndf.head()",
      "execution_count": 2,
      "outputs": [
        {
          "output_type": "execute_result",
          "execution_count": 2,
          "data": {
            "text/html": "<div>\n<style scoped>\n    .dataframe tbody tr th:only-of-type {\n        vertical-align: middle;\n    }\n\n    .dataframe tbody tr th {\n        vertical-align: top;\n    }\n\n    .dataframe thead th {\n        text-align: right;\n    }\n</style>\n<table border=\"1\" class=\"dataframe\">\n  <thead>\n    <tr style=\"text-align: right;\">\n      <th></th>\n      <th>OrderDate</th>\n      <th>Region</th>\n      <th>Rep</th>\n      <th>Item</th>\n      <th>Units</th>\n      <th>UnitCost</th>\n      <th>Total</th>\n      <th>Unnamed: 7</th>\n      <th>Unnamed: 8</th>\n    </tr>\n  </thead>\n  <tbody>\n    <tr>\n      <th>0</th>\n      <td>2018-01-06</td>\n      <td>East</td>\n      <td>Jones</td>\n      <td>Pencil</td>\n      <td>95</td>\n      <td>1.99</td>\n      <td>189.05</td>\n      <td>NaN</td>\n      <td>How many units were sold for the East region f...</td>\n    </tr>\n    <tr>\n      <th>1</th>\n      <td>2018-01-23</td>\n      <td>Central</td>\n      <td>Kivell</td>\n      <td>Binder</td>\n      <td>50</td>\n      <td>19.99</td>\n      <td>999.50</td>\n      <td>NaN</td>\n      <td>Visualize the top 3 Reps according to their sa...</td>\n    </tr>\n    <tr>\n      <th>2</th>\n      <td>2018-02-09</td>\n      <td>Central</td>\n      <td>Jardine</td>\n      <td>Pencil</td>\n      <td>36</td>\n      <td>4.99</td>\n      <td>179.64</td>\n      <td>NaN</td>\n      <td>Create a visualization using a slicer to sort ...</td>\n    </tr>\n    <tr>\n      <th>3</th>\n      <td>2018-02-26</td>\n      <td>Central</td>\n      <td>Gill</td>\n      <td>Pen</td>\n      <td>27</td>\n      <td>19.99</td>\n      <td>539.73</td>\n      <td>NaN</td>\n      <td>Compare the sales for 2018 vs 2019 using a hor...</td>\n    </tr>\n    <tr>\n      <th>4</th>\n      <td>2018-03-15</td>\n      <td>West</td>\n      <td>Sorvino</td>\n      <td>Pencil</td>\n      <td>56</td>\n      <td>2.99</td>\n      <td>167.44</td>\n      <td>NaN</td>\n      <td>Create a chart to sort the sale for all reps o...</td>\n    </tr>\n  </tbody>\n</table>\n</div>",
            "text/plain": "   OrderDate   Region      Rep    Item  Units  UnitCost   Total  Unnamed: 7  \\\n0 2018-01-06     East    Jones  Pencil     95      1.99  189.05         NaN   \n1 2018-01-23  Central   Kivell  Binder     50     19.99  999.50         NaN   \n2 2018-02-09  Central  Jardine  Pencil     36      4.99  179.64         NaN   \n3 2018-02-26  Central     Gill     Pen     27     19.99  539.73         NaN   \n4 2018-03-15     West  Sorvino  Pencil     56      2.99  167.44         NaN   \n\n                                          Unnamed: 8  \n0  How many units were sold for the East region f...  \n1  Visualize the top 3 Reps according to their sa...  \n2  Create a visualization using a slicer to sort ...  \n3  Compare the sales for 2018 vs 2019 using a hor...  \n4  Create a chart to sort the sale for all reps o...  "
          },
          "metadata": {}
        }
      ]
    },
    {
      "metadata": {
        "trusted": true
      },
      "cell_type": "code",
      "source": "df.shape",
      "execution_count": 3,
      "outputs": [
        {
          "output_type": "execute_result",
          "execution_count": 3,
          "data": {
            "text/plain": "(43, 9)"
          },
          "metadata": {}
        }
      ]
    },
    {
      "metadata": {
        "trusted": true,
        "scrolled": true
      },
      "cell_type": "code",
      "source": "df.isnull().sum()",
      "execution_count": 4,
      "outputs": [
        {
          "output_type": "execute_result",
          "execution_count": 4,
          "data": {
            "text/plain": "OrderDate      0\nRegion         0\nRep            0\nItem           0\nUnits          0\nUnitCost       0\nTotal          0\nUnnamed: 7    43\nUnnamed: 8    37\ndtype: int64"
          },
          "metadata": {}
        }
      ]
    },
    {
      "metadata": {
        "trusted": true
      },
      "cell_type": "code",
      "source": "df = df.drop('Unnamed: 7', axis=1)\ndf = df.drop('Unnamed: 8', axis=1)\ndf.isnull().sum()",
      "execution_count": 5,
      "outputs": [
        {
          "output_type": "execute_result",
          "execution_count": 5,
          "data": {
            "text/plain": "OrderDate    0\nRegion       0\nRep          0\nItem         0\nUnits        0\nUnitCost     0\nTotal        0\ndtype: int64"
          },
          "metadata": {}
        }
      ]
    },
    {
      "metadata": {
        "trusted": true
      },
      "cell_type": "code",
      "source": "df.head()",
      "execution_count": 6,
      "outputs": [
        {
          "output_type": "execute_result",
          "execution_count": 6,
          "data": {
            "text/html": "<div>\n<style scoped>\n    .dataframe tbody tr th:only-of-type {\n        vertical-align: middle;\n    }\n\n    .dataframe tbody tr th {\n        vertical-align: top;\n    }\n\n    .dataframe thead th {\n        text-align: right;\n    }\n</style>\n<table border=\"1\" class=\"dataframe\">\n  <thead>\n    <tr style=\"text-align: right;\">\n      <th></th>\n      <th>OrderDate</th>\n      <th>Region</th>\n      <th>Rep</th>\n      <th>Item</th>\n      <th>Units</th>\n      <th>UnitCost</th>\n      <th>Total</th>\n    </tr>\n  </thead>\n  <tbody>\n    <tr>\n      <th>0</th>\n      <td>2018-01-06</td>\n      <td>East</td>\n      <td>Jones</td>\n      <td>Pencil</td>\n      <td>95</td>\n      <td>1.99</td>\n      <td>189.05</td>\n    </tr>\n    <tr>\n      <th>1</th>\n      <td>2018-01-23</td>\n      <td>Central</td>\n      <td>Kivell</td>\n      <td>Binder</td>\n      <td>50</td>\n      <td>19.99</td>\n      <td>999.50</td>\n    </tr>\n    <tr>\n      <th>2</th>\n      <td>2018-02-09</td>\n      <td>Central</td>\n      <td>Jardine</td>\n      <td>Pencil</td>\n      <td>36</td>\n      <td>4.99</td>\n      <td>179.64</td>\n    </tr>\n    <tr>\n      <th>3</th>\n      <td>2018-02-26</td>\n      <td>Central</td>\n      <td>Gill</td>\n      <td>Pen</td>\n      <td>27</td>\n      <td>19.99</td>\n      <td>539.73</td>\n    </tr>\n    <tr>\n      <th>4</th>\n      <td>2018-03-15</td>\n      <td>West</td>\n      <td>Sorvino</td>\n      <td>Pencil</td>\n      <td>56</td>\n      <td>2.99</td>\n      <td>167.44</td>\n    </tr>\n  </tbody>\n</table>\n</div>",
            "text/plain": "   OrderDate   Region      Rep    Item  Units  UnitCost   Total\n0 2018-01-06     East    Jones  Pencil     95      1.99  189.05\n1 2018-01-23  Central   Kivell  Binder     50     19.99  999.50\n2 2018-02-09  Central  Jardine  Pencil     36      4.99  179.64\n3 2018-02-26  Central     Gill     Pen     27     19.99  539.73\n4 2018-03-15     West  Sorvino  Pencil     56      2.99  167.44"
          },
          "metadata": {}
        }
      ]
    },
    {
      "metadata": {
        "trusted": true
      },
      "cell_type": "code",
      "source": "df = pd.get_dummies(df, columns=['Region'])\ndf.head()",
      "execution_count": 7,
      "outputs": [
        {
          "output_type": "execute_result",
          "execution_count": 7,
          "data": {
            "text/html": "<div>\n<style scoped>\n    .dataframe tbody tr th:only-of-type {\n        vertical-align: middle;\n    }\n\n    .dataframe tbody tr th {\n        vertical-align: top;\n    }\n\n    .dataframe thead th {\n        text-align: right;\n    }\n</style>\n<table border=\"1\" class=\"dataframe\">\n  <thead>\n    <tr style=\"text-align: right;\">\n      <th></th>\n      <th>OrderDate</th>\n      <th>Rep</th>\n      <th>Item</th>\n      <th>Units</th>\n      <th>UnitCost</th>\n      <th>Total</th>\n      <th>Region_Central</th>\n      <th>Region_East</th>\n      <th>Region_West</th>\n    </tr>\n  </thead>\n  <tbody>\n    <tr>\n      <th>0</th>\n      <td>2018-01-06</td>\n      <td>Jones</td>\n      <td>Pencil</td>\n      <td>95</td>\n      <td>1.99</td>\n      <td>189.05</td>\n      <td>0</td>\n      <td>1</td>\n      <td>0</td>\n    </tr>\n    <tr>\n      <th>1</th>\n      <td>2018-01-23</td>\n      <td>Kivell</td>\n      <td>Binder</td>\n      <td>50</td>\n      <td>19.99</td>\n      <td>999.50</td>\n      <td>1</td>\n      <td>0</td>\n      <td>0</td>\n    </tr>\n    <tr>\n      <th>2</th>\n      <td>2018-02-09</td>\n      <td>Jardine</td>\n      <td>Pencil</td>\n      <td>36</td>\n      <td>4.99</td>\n      <td>179.64</td>\n      <td>1</td>\n      <td>0</td>\n      <td>0</td>\n    </tr>\n    <tr>\n      <th>3</th>\n      <td>2018-02-26</td>\n      <td>Gill</td>\n      <td>Pen</td>\n      <td>27</td>\n      <td>19.99</td>\n      <td>539.73</td>\n      <td>1</td>\n      <td>0</td>\n      <td>0</td>\n    </tr>\n    <tr>\n      <th>4</th>\n      <td>2018-03-15</td>\n      <td>Sorvino</td>\n      <td>Pencil</td>\n      <td>56</td>\n      <td>2.99</td>\n      <td>167.44</td>\n      <td>0</td>\n      <td>0</td>\n      <td>1</td>\n    </tr>\n  </tbody>\n</table>\n</div>",
            "text/plain": "   OrderDate      Rep    Item  Units  UnitCost   Total  Region_Central  \\\n0 2018-01-06    Jones  Pencil     95      1.99  189.05               0   \n1 2018-01-23   Kivell  Binder     50     19.99  999.50               1   \n2 2018-02-09  Jardine  Pencil     36      4.99  179.64               1   \n3 2018-02-26     Gill     Pen     27     19.99  539.73               1   \n4 2018-03-15  Sorvino  Pencil     56      2.99  167.44               0   \n\n   Region_East  Region_West  \n0            1            0  \n1            0            0  \n2            0            0  \n3            0            0  \n4            0            1  "
          },
          "metadata": {}
        }
      ]
    },
    {
      "metadata": {
        "trusted": true
      },
      "cell_type": "code",
      "source": "years = []\nfor index, row in df.iterrows(): \n    years.append(df.loc[index, 'OrderDate'].year)\ndf['year'] = years\ndf.head(10)",
      "execution_count": 8,
      "outputs": [
        {
          "output_type": "execute_result",
          "execution_count": 8,
          "data": {
            "text/html": "<div>\n<style scoped>\n    .dataframe tbody tr th:only-of-type {\n        vertical-align: middle;\n    }\n\n    .dataframe tbody tr th {\n        vertical-align: top;\n    }\n\n    .dataframe thead th {\n        text-align: right;\n    }\n</style>\n<table border=\"1\" class=\"dataframe\">\n  <thead>\n    <tr style=\"text-align: right;\">\n      <th></th>\n      <th>OrderDate</th>\n      <th>Rep</th>\n      <th>Item</th>\n      <th>Units</th>\n      <th>UnitCost</th>\n      <th>Total</th>\n      <th>Region_Central</th>\n      <th>Region_East</th>\n      <th>Region_West</th>\n      <th>year</th>\n    </tr>\n  </thead>\n  <tbody>\n    <tr>\n      <th>0</th>\n      <td>2018-01-06</td>\n      <td>Jones</td>\n      <td>Pencil</td>\n      <td>95</td>\n      <td>1.99</td>\n      <td>189.05</td>\n      <td>0</td>\n      <td>1</td>\n      <td>0</td>\n      <td>2018</td>\n    </tr>\n    <tr>\n      <th>1</th>\n      <td>2018-01-23</td>\n      <td>Kivell</td>\n      <td>Binder</td>\n      <td>50</td>\n      <td>19.99</td>\n      <td>999.50</td>\n      <td>1</td>\n      <td>0</td>\n      <td>0</td>\n      <td>2018</td>\n    </tr>\n    <tr>\n      <th>2</th>\n      <td>2018-02-09</td>\n      <td>Jardine</td>\n      <td>Pencil</td>\n      <td>36</td>\n      <td>4.99</td>\n      <td>179.64</td>\n      <td>1</td>\n      <td>0</td>\n      <td>0</td>\n      <td>2018</td>\n    </tr>\n    <tr>\n      <th>3</th>\n      <td>2018-02-26</td>\n      <td>Gill</td>\n      <td>Pen</td>\n      <td>27</td>\n      <td>19.99</td>\n      <td>539.73</td>\n      <td>1</td>\n      <td>0</td>\n      <td>0</td>\n      <td>2018</td>\n    </tr>\n    <tr>\n      <th>4</th>\n      <td>2018-03-15</td>\n      <td>Sorvino</td>\n      <td>Pencil</td>\n      <td>56</td>\n      <td>2.99</td>\n      <td>167.44</td>\n      <td>0</td>\n      <td>0</td>\n      <td>1</td>\n      <td>2018</td>\n    </tr>\n    <tr>\n      <th>5</th>\n      <td>2018-04-01</td>\n      <td>Jones</td>\n      <td>Binder</td>\n      <td>60</td>\n      <td>4.99</td>\n      <td>299.40</td>\n      <td>0</td>\n      <td>1</td>\n      <td>0</td>\n      <td>2018</td>\n    </tr>\n    <tr>\n      <th>6</th>\n      <td>2018-04-18</td>\n      <td>Andrews</td>\n      <td>Pencil</td>\n      <td>75</td>\n      <td>1.99</td>\n      <td>149.25</td>\n      <td>1</td>\n      <td>0</td>\n      <td>0</td>\n      <td>2018</td>\n    </tr>\n    <tr>\n      <th>7</th>\n      <td>2018-05-05</td>\n      <td>Jardine</td>\n      <td>Pencil</td>\n      <td>90</td>\n      <td>4.99</td>\n      <td>449.10</td>\n      <td>1</td>\n      <td>0</td>\n      <td>0</td>\n      <td>2018</td>\n    </tr>\n    <tr>\n      <th>8</th>\n      <td>2018-05-22</td>\n      <td>Thompson</td>\n      <td>Pencil</td>\n      <td>32</td>\n      <td>1.99</td>\n      <td>63.68</td>\n      <td>0</td>\n      <td>0</td>\n      <td>1</td>\n      <td>2018</td>\n    </tr>\n    <tr>\n      <th>9</th>\n      <td>2018-06-08</td>\n      <td>Jones</td>\n      <td>Binder</td>\n      <td>60</td>\n      <td>8.99</td>\n      <td>539.40</td>\n      <td>0</td>\n      <td>1</td>\n      <td>0</td>\n      <td>2018</td>\n    </tr>\n  </tbody>\n</table>\n</div>",
            "text/plain": "   OrderDate       Rep    Item  Units  UnitCost   Total  Region_Central  \\\n0 2018-01-06     Jones  Pencil     95      1.99  189.05               0   \n1 2018-01-23    Kivell  Binder     50     19.99  999.50               1   \n2 2018-02-09   Jardine  Pencil     36      4.99  179.64               1   \n3 2018-02-26      Gill     Pen     27     19.99  539.73               1   \n4 2018-03-15   Sorvino  Pencil     56      2.99  167.44               0   \n5 2018-04-01     Jones  Binder     60      4.99  299.40               0   \n6 2018-04-18   Andrews  Pencil     75      1.99  149.25               1   \n7 2018-05-05   Jardine  Pencil     90      4.99  449.10               1   \n8 2018-05-22  Thompson  Pencil     32      1.99   63.68               0   \n9 2018-06-08     Jones  Binder     60      8.99  539.40               0   \n\n   Region_East  Region_West  year  \n0            1            0  2018  \n1            0            0  2018  \n2            0            0  2018  \n3            0            0  2018  \n4            0            1  2018  \n5            1            0  2018  \n6            0            0  2018  \n7            0            0  2018  \n8            0            1  2018  \n9            1            0  2018  "
          },
          "metadata": {}
        }
      ]
    },
    {
      "metadata": {
        "trusted": true
      },
      "cell_type": "code",
      "source": "units_2019=0\nfor index, row in df.iterrows(): \n    if(df.loc[index, 'Region_East']==1 and df.loc[index, 'year']==2019):\n        units_2019+=df.loc[index,'Units']",
      "execution_count": 9,
      "outputs": []
    },
    {
      "metadata": {},
      "cell_type": "markdown",
      "source": "**Units sold for the East region for 2019**"
    },
    {
      "metadata": {
        "trusted": true
      },
      "cell_type": "code",
      "source": "print(units_2019)",
      "execution_count": 10,
      "outputs": [
        {
          "output_type": "stream",
          "text": "162\n",
          "name": "stdout"
        }
      ]
    },
    {
      "metadata": {
        "trusted": true
      },
      "cell_type": "code",
      "source": "reps = df.Rep.unique()",
      "execution_count": 11,
      "outputs": []
    },
    {
      "metadata": {
        "trusted": true
      },
      "cell_type": "code",
      "source": "df.set_index(\"Rep\", inplace=True)\ndf.head()",
      "execution_count": 12,
      "outputs": [
        {
          "output_type": "execute_result",
          "execution_count": 12,
          "data": {
            "text/html": "<div>\n<style scoped>\n    .dataframe tbody tr th:only-of-type {\n        vertical-align: middle;\n    }\n\n    .dataframe tbody tr th {\n        vertical-align: top;\n    }\n\n    .dataframe thead th {\n        text-align: right;\n    }\n</style>\n<table border=\"1\" class=\"dataframe\">\n  <thead>\n    <tr style=\"text-align: right;\">\n      <th></th>\n      <th>OrderDate</th>\n      <th>Item</th>\n      <th>Units</th>\n      <th>UnitCost</th>\n      <th>Total</th>\n      <th>Region_Central</th>\n      <th>Region_East</th>\n      <th>Region_West</th>\n      <th>year</th>\n    </tr>\n    <tr>\n      <th>Rep</th>\n      <th></th>\n      <th></th>\n      <th></th>\n      <th></th>\n      <th></th>\n      <th></th>\n      <th></th>\n      <th></th>\n      <th></th>\n    </tr>\n  </thead>\n  <tbody>\n    <tr>\n      <th>Jones</th>\n      <td>2018-01-06</td>\n      <td>Pencil</td>\n      <td>95</td>\n      <td>1.99</td>\n      <td>189.05</td>\n      <td>0</td>\n      <td>1</td>\n      <td>0</td>\n      <td>2018</td>\n    </tr>\n    <tr>\n      <th>Kivell</th>\n      <td>2018-01-23</td>\n      <td>Binder</td>\n      <td>50</td>\n      <td>19.99</td>\n      <td>999.50</td>\n      <td>1</td>\n      <td>0</td>\n      <td>0</td>\n      <td>2018</td>\n    </tr>\n    <tr>\n      <th>Jardine</th>\n      <td>2018-02-09</td>\n      <td>Pencil</td>\n      <td>36</td>\n      <td>4.99</td>\n      <td>179.64</td>\n      <td>1</td>\n      <td>0</td>\n      <td>0</td>\n      <td>2018</td>\n    </tr>\n    <tr>\n      <th>Gill</th>\n      <td>2018-02-26</td>\n      <td>Pen</td>\n      <td>27</td>\n      <td>19.99</td>\n      <td>539.73</td>\n      <td>1</td>\n      <td>0</td>\n      <td>0</td>\n      <td>2018</td>\n    </tr>\n    <tr>\n      <th>Sorvino</th>\n      <td>2018-03-15</td>\n      <td>Pencil</td>\n      <td>56</td>\n      <td>2.99</td>\n      <td>167.44</td>\n      <td>0</td>\n      <td>0</td>\n      <td>1</td>\n      <td>2018</td>\n    </tr>\n  </tbody>\n</table>\n</div>",
            "text/plain": "         OrderDate    Item  Units  UnitCost   Total  Region_Central  \\\nRep                                                                   \nJones   2018-01-06  Pencil     95      1.99  189.05               0   \nKivell  2018-01-23  Binder     50     19.99  999.50               1   \nJardine 2018-02-09  Pencil     36      4.99  179.64               1   \nGill    2018-02-26     Pen     27     19.99  539.73               1   \nSorvino 2018-03-15  Pencil     56      2.99  167.44               0   \n\n         Region_East  Region_West  year  \nRep                                      \nJones              1            0  2018  \nKivell             0            0  2018  \nJardine            0            0  2018  \nGill               0            0  2018  \nSorvino            0            1  2018  "
          },
          "metadata": {}
        }
      ]
    },
    {
      "metadata": {
        "trusted": true
      },
      "cell_type": "code",
      "source": "d = {}\nfor i in reps:\n    d[i] = df.loc[i, 'Total'].sum()",
      "execution_count": 13,
      "outputs": []
    },
    {
      "metadata": {
        "trusted": true
      },
      "cell_type": "code",
      "source": "df2 = pd.DataFrame(list(d.items()))\ndf2.head()",
      "execution_count": 14,
      "outputs": [
        {
          "output_type": "execute_result",
          "execution_count": 14,
          "data": {
            "text/html": "<div>\n<style scoped>\n    .dataframe tbody tr th:only-of-type {\n        vertical-align: middle;\n    }\n\n    .dataframe tbody tr th {\n        vertical-align: top;\n    }\n\n    .dataframe thead th {\n        text-align: right;\n    }\n</style>\n<table border=\"1\" class=\"dataframe\">\n  <thead>\n    <tr style=\"text-align: right;\">\n      <th></th>\n      <th>0</th>\n      <th>1</th>\n    </tr>\n  </thead>\n  <tbody>\n    <tr>\n      <th>0</th>\n      <td>Jones</td>\n      <td>2363.04</td>\n    </tr>\n    <tr>\n      <th>1</th>\n      <td>Kivell</td>\n      <td>3109.44</td>\n    </tr>\n    <tr>\n      <th>2</th>\n      <td>Jardine</td>\n      <td>2812.19</td>\n    </tr>\n    <tr>\n      <th>3</th>\n      <td>Gill</td>\n      <td>1749.87</td>\n    </tr>\n    <tr>\n      <th>4</th>\n      <td>Sorvino</td>\n      <td>1283.61</td>\n    </tr>\n  </tbody>\n</table>\n</div>",
            "text/plain": "         0        1\n0    Jones  2363.04\n1   Kivell  3109.44\n2  Jardine  2812.19\n3     Gill  1749.87\n4  Sorvino  1283.61"
          },
          "metadata": {}
        }
      ]
    },
    {
      "metadata": {},
      "cell_type": "markdown",
      "source": "**Top 3 Reps according to their sales**"
    },
    {
      "metadata": {
        "trusted": true
      },
      "cell_type": "code",
      "source": "df2.nlargest(3,1)",
      "execution_count": 15,
      "outputs": [
        {
          "output_type": "execute_result",
          "execution_count": 15,
          "data": {
            "text/html": "<div>\n<style scoped>\n    .dataframe tbody tr th:only-of-type {\n        vertical-align: middle;\n    }\n\n    .dataframe tbody tr th {\n        vertical-align: top;\n    }\n\n    .dataframe thead th {\n        text-align: right;\n    }\n</style>\n<table border=\"1\" class=\"dataframe\">\n  <thead>\n    <tr style=\"text-align: right;\">\n      <th></th>\n      <th>0</th>\n      <th>1</th>\n    </tr>\n  </thead>\n  <tbody>\n    <tr>\n      <th>1</th>\n      <td>Kivell</td>\n      <td>3109.44</td>\n    </tr>\n    <tr>\n      <th>9</th>\n      <td>Parent</td>\n      <td>3102.30</td>\n    </tr>\n    <tr>\n      <th>2</th>\n      <td>Jardine</td>\n      <td>2812.19</td>\n    </tr>\n  </tbody>\n</table>\n</div>",
            "text/plain": "         0        1\n1   Kivell  3109.44\n9   Parent  3102.30\n2  Jardine  2812.19"
          },
          "metadata": {}
        }
      ]
    },
    {
      "metadata": {
        "trusted": true
      },
      "cell_type": "code",
      "source": "df = df.reset_index()\ndf.head()",
      "execution_count": 16,
      "outputs": [
        {
          "output_type": "execute_result",
          "execution_count": 16,
          "data": {
            "text/html": "<div>\n<style scoped>\n    .dataframe tbody tr th:only-of-type {\n        vertical-align: middle;\n    }\n\n    .dataframe tbody tr th {\n        vertical-align: top;\n    }\n\n    .dataframe thead th {\n        text-align: right;\n    }\n</style>\n<table border=\"1\" class=\"dataframe\">\n  <thead>\n    <tr style=\"text-align: right;\">\n      <th></th>\n      <th>Rep</th>\n      <th>OrderDate</th>\n      <th>Item</th>\n      <th>Units</th>\n      <th>UnitCost</th>\n      <th>Total</th>\n      <th>Region_Central</th>\n      <th>Region_East</th>\n      <th>Region_West</th>\n      <th>year</th>\n    </tr>\n  </thead>\n  <tbody>\n    <tr>\n      <th>0</th>\n      <td>Jones</td>\n      <td>2018-01-06</td>\n      <td>Pencil</td>\n      <td>95</td>\n      <td>1.99</td>\n      <td>189.05</td>\n      <td>0</td>\n      <td>1</td>\n      <td>0</td>\n      <td>2018</td>\n    </tr>\n    <tr>\n      <th>1</th>\n      <td>Kivell</td>\n      <td>2018-01-23</td>\n      <td>Binder</td>\n      <td>50</td>\n      <td>19.99</td>\n      <td>999.50</td>\n      <td>1</td>\n      <td>0</td>\n      <td>0</td>\n      <td>2018</td>\n    </tr>\n    <tr>\n      <th>2</th>\n      <td>Jardine</td>\n      <td>2018-02-09</td>\n      <td>Pencil</td>\n      <td>36</td>\n      <td>4.99</td>\n      <td>179.64</td>\n      <td>1</td>\n      <td>0</td>\n      <td>0</td>\n      <td>2018</td>\n    </tr>\n    <tr>\n      <th>3</th>\n      <td>Gill</td>\n      <td>2018-02-26</td>\n      <td>Pen</td>\n      <td>27</td>\n      <td>19.99</td>\n      <td>539.73</td>\n      <td>1</td>\n      <td>0</td>\n      <td>0</td>\n      <td>2018</td>\n    </tr>\n    <tr>\n      <th>4</th>\n      <td>Sorvino</td>\n      <td>2018-03-15</td>\n      <td>Pencil</td>\n      <td>56</td>\n      <td>2.99</td>\n      <td>167.44</td>\n      <td>0</td>\n      <td>0</td>\n      <td>1</td>\n      <td>2018</td>\n    </tr>\n  </tbody>\n</table>\n</div>",
            "text/plain": "       Rep  OrderDate    Item  Units  UnitCost   Total  Region_Central  \\\n0    Jones 2018-01-06  Pencil     95      1.99  189.05               0   \n1   Kivell 2018-01-23  Binder     50     19.99  999.50               1   \n2  Jardine 2018-02-09  Pencil     36      4.99  179.64               1   \n3     Gill 2018-02-26     Pen     27     19.99  539.73               1   \n4  Sorvino 2018-03-15  Pencil     56      2.99  167.44               0   \n\n   Region_East  Region_West  year  \n0            1            0  2018  \n1            0            0  2018  \n2            0            0  2018  \n3            0            0  2018  \n4            0            1  2018  "
          },
          "metadata": {}
        }
      ]
    },
    {
      "metadata": {},
      "cell_type": "markdown",
      "source": "**Total sales per region**"
    },
    {
      "metadata": {
        "trusted": true
      },
      "cell_type": "code",
      "source": "east, central, west = 0, 0, 0\n\nfor index, row in df.iterrows():\n    if(df.loc[index, 'Region_East']==1):\n        east += row['Total']\n    elif(df.loc[index, 'Region_Central']==1):\n        central += row['Total']\n    elif(df.loc[index, 'Region_West']==1):\n        west += row['Total']\nprint('sales east region: ' + str(east))\nprint('sales central region: ' + str(central))\nprint('sales west region: ' + str(west))",
      "execution_count": 17,
      "outputs": [
        {
          "output_type": "stream",
          "text": "sales east region: 6002.09\nsales central region: 11139.069999999998\nsales west region: 2486.7200000000003\n",
          "name": "stdout"
        }
      ]
    },
    {
      "metadata": {},
      "cell_type": "markdown",
      "source": "**Total sales per year**"
    },
    {
      "metadata": {
        "trusted": true
      },
      "cell_type": "code",
      "source": "sales_2018, sales_2019 = 0, 0\n\nfor index, row in df.iterrows():\n    if(df.loc[index, 'year']==2018):\n        sales_2018 += row['Total']\n    else: \n        sales_2019 += row['Total']\n\nprint('sales 2018: ' + str(sales_2018))\nprint('sales 2019: ' + str(sales_2019))",
      "execution_count": 18,
      "outputs": [
        {
          "output_type": "stream",
          "text": "sales 2018: 9258.34\nsales 2019: 10369.539999999997\n",
          "name": "stdout"
        }
      ]
    },
    {
      "metadata": {
        "trusted": true
      },
      "cell_type": "code",
      "source": "df.head()",
      "execution_count": 19,
      "outputs": [
        {
          "output_type": "execute_result",
          "execution_count": 19,
          "data": {
            "text/html": "<div>\n<style scoped>\n    .dataframe tbody tr th:only-of-type {\n        vertical-align: middle;\n    }\n\n    .dataframe tbody tr th {\n        vertical-align: top;\n    }\n\n    .dataframe thead th {\n        text-align: right;\n    }\n</style>\n<table border=\"1\" class=\"dataframe\">\n  <thead>\n    <tr style=\"text-align: right;\">\n      <th></th>\n      <th>Rep</th>\n      <th>OrderDate</th>\n      <th>Item</th>\n      <th>Units</th>\n      <th>UnitCost</th>\n      <th>Total</th>\n      <th>Region_Central</th>\n      <th>Region_East</th>\n      <th>Region_West</th>\n      <th>year</th>\n    </tr>\n  </thead>\n  <tbody>\n    <tr>\n      <th>0</th>\n      <td>Jones</td>\n      <td>2018-01-06</td>\n      <td>Pencil</td>\n      <td>95</td>\n      <td>1.99</td>\n      <td>189.05</td>\n      <td>0</td>\n      <td>1</td>\n      <td>0</td>\n      <td>2018</td>\n    </tr>\n    <tr>\n      <th>1</th>\n      <td>Kivell</td>\n      <td>2018-01-23</td>\n      <td>Binder</td>\n      <td>50</td>\n      <td>19.99</td>\n      <td>999.50</td>\n      <td>1</td>\n      <td>0</td>\n      <td>0</td>\n      <td>2018</td>\n    </tr>\n    <tr>\n      <th>2</th>\n      <td>Jardine</td>\n      <td>2018-02-09</td>\n      <td>Pencil</td>\n      <td>36</td>\n      <td>4.99</td>\n      <td>179.64</td>\n      <td>1</td>\n      <td>0</td>\n      <td>0</td>\n      <td>2018</td>\n    </tr>\n    <tr>\n      <th>3</th>\n      <td>Gill</td>\n      <td>2018-02-26</td>\n      <td>Pen</td>\n      <td>27</td>\n      <td>19.99</td>\n      <td>539.73</td>\n      <td>1</td>\n      <td>0</td>\n      <td>0</td>\n      <td>2018</td>\n    </tr>\n    <tr>\n      <th>4</th>\n      <td>Sorvino</td>\n      <td>2018-03-15</td>\n      <td>Pencil</td>\n      <td>56</td>\n      <td>2.99</td>\n      <td>167.44</td>\n      <td>0</td>\n      <td>0</td>\n      <td>1</td>\n      <td>2018</td>\n    </tr>\n  </tbody>\n</table>\n</div>",
            "text/plain": "       Rep  OrderDate    Item  Units  UnitCost   Total  Region_Central  \\\n0    Jones 2018-01-06  Pencil     95      1.99  189.05               0   \n1   Kivell 2018-01-23  Binder     50     19.99  999.50               1   \n2  Jardine 2018-02-09  Pencil     36      4.99  179.64               1   \n3     Gill 2018-02-26     Pen     27     19.99  539.73               1   \n4  Sorvino 2018-03-15  Pencil     56      2.99  167.44               0   \n\n   Region_East  Region_West  year  \n0            1            0  2018  \n1            0            0  2018  \n2            0            0  2018  \n3            0            0  2018  \n4            0            1  2018  "
          },
          "metadata": {}
        }
      ]
    },
    {
      "metadata": {
        "trusted": true
      },
      "cell_type": "code",
      "source": "dict_sales = {}\nfor index, row in df.iterrows():\n    key = row['Rep']\n    date = df.loc[index,'OrderDate']\n    sales = df.loc[index,'Total']\n    if key in dict_sales:\n        dict_sales[key].append((date, sales))\n    else:\n        dict_sales[key] = [(date, sales)]",
      "execution_count": 20,
      "outputs": []
    },
    {
      "metadata": {
        "trusted": true
      },
      "cell_type": "code",
      "source": "print(dict_sales)",
      "execution_count": 21,
      "outputs": [
        {
          "output_type": "stream",
          "text": "{'Jones': [(Timestamp('2018-01-06 00:00:00'), 189.05), (Timestamp('2018-04-01 00:00:00'), 299.4), (Timestamp('2018-06-08 00:00:00'), 539.4), (Timestamp('2018-08-15 00:00:00'), 174.65), (Timestamp('2018-09-18 00:00:00'), 255.84), (Timestamp('2018-10-22 00:00:00'), 575.36), (Timestamp('2019-02-18 00:00:00'), 19.96), (Timestamp('2019-07-04 00:00:00'), 309.38)], 'Kivell': [(Timestamp('2018-01-23 00:00:00'), 999.5), (Timestamp('2018-11-25 00:00:00'), 479.04), (Timestamp('2019-06-17 00:00:00'), 625.0), (Timestamp('2019-08-07 00:00:00'), 1005.9)], 'Jardine': [(Timestamp('2018-02-09 00:00:00'), 179.64), (Timestamp('2018-05-05 00:00:00'), 449.1), (Timestamp('2019-03-24 00:00:00'), 249.5), (Timestamp('2019-11-17 00:00:00'), 54.89), (Timestamp('2019-12-04 00:00:00'), 1879.06)], 'Gill': [(Timestamp('2018-02-26 00:00:00'), 539.73), (Timestamp('2019-01-15 00:00:00'), 413.54), (Timestamp('2019-05-14 00:00:00'), 68.37), (Timestamp('2019-05-31 00:00:00'), 719.2), (Timestamp('2019-09-10 00:00:00'), 9.03)], 'Sorvino': [(Timestamp('2018-03-15 00:00:00'), 167.44), (Timestamp('2019-03-07 00:00:00'), 139.93), (Timestamp('2019-08-24 00:00:00'), 825.0), (Timestamp('2019-09-27 00:00:00'), 151.24)], 'Andrews': [(Timestamp('2018-04-18 00:00:00'), 149.25), (Timestamp('2019-04-10 00:00:00'), 131.34), (Timestamp('2019-10-31 00:00:00'), 18.06), (Timestamp('2019-12-21 00:00:00'), 139.72)], 'Thompson': [(Timestamp('2018-05-22 00:00:00'), 63.68), (Timestamp('2019-10-14 00:00:00'), 1139.43)], 'Morgan': [(Timestamp('2018-06-25 00:00:00'), 449.1), (Timestamp('2018-10-05 00:00:00'), 251.72), (Timestamp('2019-07-21 00:00:00'), 686.95)], 'Howard': [(Timestamp('2018-07-12 00:00:00'), 57.71), (Timestamp('2019-04-27 00:00:00'), 479.04)], 'Parent': [(Timestamp('2018-07-29 00:00:00'), 1619.19), (Timestamp('2018-11-08 00:00:00'), 299.85), (Timestamp('2018-12-29 00:00:00'), 1183.26)], 'Smith': [(Timestamp('2018-09-01 00:00:00'), 250.0), (Timestamp('2018-12-12 00:00:00'), 86.43), (Timestamp('2019-02-01 00:00:00'), 1305.0)]}\n",
          "name": "stdout"
        }
      ]
    },
    {
      "metadata": {
        "trusted": true
      },
      "cell_type": "code",
      "source": "d_items = dict_sales.items()\ndates = []\namounts = []\ndates2 = []\namounts2 = []\n\nfor key, value in d_items:\n    for j in range(len(value)):\n        date, amount = value[j]\n        if(date.year == 2018):\n            dates.append(date.month)\n            amounts.append(amount)\n        else:\n            dates2.append(date.month)\n            amounts2.append(amount)",
      "execution_count": 40,
      "outputs": []
    },
    {
      "metadata": {
        "trusted": true
      },
      "cell_type": "code",
      "source": "import matplotlib.pyplot as plt\n\nfig, ax = plt.subplots()\nplt.scatter(dates, amounts, label='2018')\nplt.scatter(dates2, amounts2, label='2019')\nax.legend()\nax.grid(True)\nplt.title(\"Sales per month by year\")\nplt.show()",
      "execution_count": 43,
      "outputs": [
        {
          "output_type": "display_data",
          "data": {
            "image/png": "[encoded data removed]",
            "text/plain": "<Figure size 432x288 with 1 Axes>"
          },
          "metadata": {
            "needs_background": "light"
          }
        }
      ]
    },
    {
      "metadata": {
        "trusted": true
      },
      "cell_type": "code",
      "source": "",
      "execution_count": null,
      "outputs": []
    }
  ],
  "metadata": {
    "kernelspec": {
      "name": "python36",
      "display_name": "Python 3.6",
      "language": "python"
    },
    "language_info": {
      "mimetype": "text/x-python",
      "nbconvert_exporter": "python",
      "name": "python",
      "pygments_lexer": "ipython3",
      "version": "3.6.6",
      "file_extension": ".py",
      "codemirror_mode": {
        "version": 3,
        "name": "ipython"
      }
    }
  },
  "nbformat": 4,
  "nbformat_minor": 2
}